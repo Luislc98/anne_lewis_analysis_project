{
 "cells": [
  {
   "cell_type": "code",
   "execution_count": 24,
   "metadata": {},
   "outputs": [],
   "source": [
    "import pandas as pd\n",
    "import numpy as np\n",
    "#create dataframe for the subscriptions dataset\n",
    "df = pd.read_csv('cons_email_chapter_subscription.csv')\n",
    "#create dataframe for the constituent emails dataset\n",
    "df2 = pd.read_csv('cons_email.csv')\n",
    "\n",
    "# filter out the emails that are not primary email addresses\n",
    "df2_only_primary_email = df2[df2.is_primary == 1]\n",
    "                  \n",
    "# reduce the columns used in the dataset to those relevant for creating the people dataset\n",
    "df2_only_primary_email_cut = df2_only_primary_email[['cons_email_id','cons_id', 'email' ]]\n",
    "\n",
    "# merge the dataset  of the primary emails with the dataset on the subscription info of emails\n",
    "# only use the data from the subcription dataset if chapter_id==1\n",
    "df_merge=pd.merge(left=df2_only_primary_email_cut ,right=df[df.chapter_id==1] , how='left',left_on='cons_email_id', right_on='cons_email_id')\n",
    "\n",
    "# reduce the columns to only the relevant ones\n",
    "df_merge_cut=df_merge[['cons_id','email','cons_email_id','isunsub']]"
   ]
  },
  {
   "cell_type": "code",
   "execution_count": 11,
   "metadata": {},
   "outputs": [
    {
     "data": {
      "text/plain": [
       "False"
      ]
     },
     "execution_count": 11,
     "metadata": {},
     "output_type": "execute_result"
    }
   ],
   "source": [
    "# check if there are any missing emails\n",
    "df_merge_cut['email'].isnull().values.any()"
   ]
  },
  {
   "cell_type": "code",
   "execution_count": 30,
   "metadata": {},
   "outputs": [
    {
     "data": {
      "text/plain": [
       "True"
      ]
     },
     "execution_count": 30,
     "metadata": {},
     "output_type": "execute_result"
    }
   ],
   "source": [
    "#create dataframe for the constituent dataset\n",
    "df3 = pd.read_csv('cons.csv')\n",
    "\n",
    "#merge the constituent dataset with the combined dataset of emails and subscription status\n",
    "df_merge2 = pd.merge(left=df3, right=df_merge_cut, how='left', left_on='cons_id', right_on='cons_id')\n",
    "# reduce  dataframe to relevant columns\n",
    "df_merge2_final=df_merge2[[ 'email',  'source', 'isunsub' ,'create_dt', 'modified_dt']]\n",
    "\n",
    "df_merge2_final['email'].isnull().values.any()\n",
    "# NOTE: some people in the database seem to have no email associated with their account"
   ]
  },
  {
   "cell_type": "code",
   "execution_count": 31,
   "metadata": {},
   "outputs": [
    {
     "name": "stderr",
     "output_type": "stream",
     "text": [
      "C:\\ProgramData\\Anaconda3\\lib\\site-packages\\pandas\\core\\indexing.py:543: SettingWithCopyWarning: \n",
      "A value is trying to be set on a copy of a slice from a DataFrame.\n",
      "Try using .loc[row_indexer,col_indexer] = value instead\n",
      "\n",
      "See the caveats in the documentation: http://pandas.pydata.org/pandas-docs/stable/indexing.html#indexing-view-versus-copy\n",
      "  self.obj[item] = s\n",
      "C:\\ProgramData\\Anaconda3\\lib\\site-packages\\ipykernel_launcher.py:5: SettingWithCopyWarning: \n",
      "A value is trying to be set on a copy of a slice from a DataFrame.\n",
      "Try using .loc[row_indexer,col_indexer] = value instead\n",
      "\n",
      "See the caveats in the documentation: http://pandas.pydata.org/pandas-docs/stable/indexing.html#indexing-view-versus-copy\n",
      "  \"\"\"\n",
      "C:\\ProgramData\\Anaconda3\\lib\\site-packages\\ipykernel_launcher.py:8: SettingWithCopyWarning: \n",
      "A value is trying to be set on a copy of a slice from a DataFrame.\n",
      "Try using .loc[row_indexer,col_indexer] = value instead\n",
      "\n",
      "See the caveats in the documentation: http://pandas.pydata.org/pandas-docs/stable/indexing.html#indexing-view-versus-copy\n",
      "  \n",
      "C:\\ProgramData\\Anaconda3\\lib\\site-packages\\ipykernel_launcher.py:9: SettingWithCopyWarning: \n",
      "A value is trying to be set on a copy of a slice from a DataFrame.\n",
      "Try using .loc[row_indexer,col_indexer] = value instead\n",
      "\n",
      "See the caveats in the documentation: http://pandas.pydata.org/pandas-docs/stable/indexing.html#indexing-view-versus-copy\n",
      "  if __name__ == '__main__':\n"
     ]
    }
   ],
   "source": [
    "# since emails not in the unsubscribed list are assumed to still be subscribed, we fill any email with NaN in the isunsub column\n",
    "# with a 0\n",
    "df_merge2_final.loc[ np.isnan(df_merge2_final[\"isunsub\"]), 'isunsub'] = 0\n",
    "#convert isunsub column to a boolean data type\n",
    "df_merge2_final['isunsub'] = df_merge2_final['isunsub'].astype('bool')\n",
    "\n",
    "#convert date columns to datatime types\n",
    "df_merge2_final['create_dt'] = pd.to_datetime(df_merge2_final['create_dt'])\n",
    "df_merge2_final['modified_dt'] = pd.to_datetime(df_merge2_final['modified_dt'])"
   ]
  },
  {
   "cell_type": "code",
   "execution_count": 32,
   "metadata": {},
   "outputs": [
    {
     "name": "stdout",
     "output_type": "stream",
     "text": [
      "<class 'pandas.core.frame.DataFrame'>\n",
      "Int64Index: 700000 entries, 0 to 699999\n",
      "Data columns (total 5 columns):\n",
      "email          605639 non-null object\n",
      "code           350026 non-null object\n",
      "is_unsub       700000 non-null bool\n",
      "created_dt     700000 non-null datetime64[ns]\n",
      "modified_dt    700000 non-null datetime64[ns]\n",
      "dtypes: bool(1), datetime64[ns](2), object(2)\n",
      "memory usage: 27.4+ MB\n"
     ]
    }
   ],
   "source": [
    "\n",
    "# rename columns\n",
    "df_merge2_final.columns = ['email', 'code', 'is_unsub', 'created_dt', 'modified_dt']\n",
    "#export dataframe and create new csv file \n",
    "df_merge2_final.to_csv('people.csv')\n",
    "#check the datatypes that each column is\n",
    "df_merge2_final.info()"
   ]
  },
  {
   "cell_type": "code",
   "execution_count": 27,
   "metadata": {},
   "outputs": [
    {
     "name": "stderr",
     "output_type": "stream",
     "text": [
      "C:\\ProgramData\\Anaconda3\\lib\\site-packages\\ipykernel_launcher.py:7: SettingWithCopyWarning: \n",
      "A value is trying to be set on a copy of a slice from a DataFrame.\n",
      "Try using .loc[row_indexer,col_indexer] = value instead\n",
      "\n",
      "See the caveats in the documentation: http://pandas.pydata.org/pandas-docs/stable/indexing.html#indexing-view-versus-copy\n",
      "  import sys\n"
     ]
    }
   ],
   "source": [
    "# make a  acquisition file\n",
    "# only use the create_dt column in order to create the file\n",
    "df_acquisition=df_merge2_final[['created_dt']]\n",
    "# convert the data in column to datetime\n",
    "\n",
    "#tranform it into terms of year/month/day to make it easier to aggregrate by day\n",
    "df_acquisition['created_dt']=df_acquisition.created_dt.dt.strftime('%Y/%m/%d')\n",
    "\n",
    "# count the number of times a person account was created and use that info to create a new dataframe\n",
    "x=df_acquisition['created_dt'].value_counts()\n",
    "acquisition_facts = pd.DataFrame(x)\n",
    "\n",
    "# create an index for the new datframe\n",
    "acquisition_facts = acquisition_facts.reset_index()\n",
    "# rename the column names\n",
    "acquisition_facts.columns = ['acquisition_date', 'acquisitions']\n",
    "\n",
    "#convert dates to datatime type\n",
    "acquisition_facts['acquisition_date'] = pd.to_datetime(acquisition_facts['acquisition_date'])"
   ]
  },
  {
   "cell_type": "code",
   "execution_count": 29,
   "metadata": {},
   "outputs": [
    {
     "name": "stdout",
     "output_type": "stream",
     "text": [
      "<class 'pandas.core.frame.DataFrame'>\n",
      "RangeIndex: 18445 entries, 0 to 18444\n",
      "Data columns (total 2 columns):\n",
      "acquisition_date    18445 non-null datetime64[ns]\n",
      "acquisitions        18445 non-null int64\n",
      "dtypes: datetime64[ns](1), int64(1)\n",
      "memory usage: 288.3 KB\n"
     ]
    }
   ],
   "source": [
    "#export dataframe and create new csv file \n",
    "acquisition_facts.to_csv('acquisition_facts.csv')\n",
    "\n",
    "#check the datatypes that each column is\n",
    "acquisition_facts.info()"
   ]
  }
 ],
 "metadata": {
  "kernelspec": {
   "display_name": "Python 3",
   "language": "python",
   "name": "python3"
  },
  "language_info": {
   "codemirror_mode": {
    "name": "ipython",
    "version": 3
   },
   "file_extension": ".py",
   "mimetype": "text/x-python",
   "name": "python",
   "nbconvert_exporter": "python",
   "pygments_lexer": "ipython3",
   "version": "3.6.5"
  }
 },
 "nbformat": 4,
 "nbformat_minor": 2
}
